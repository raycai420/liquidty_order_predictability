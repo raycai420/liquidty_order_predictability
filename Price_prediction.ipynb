{
 "cells": [
  {
   "cell_type": "markdown",
   "metadata": {},
   "source": [
    "# Initialization"
   ]
  },
  {
   "cell_type": "code",
   "execution_count": 1,
   "id": "7d7f56e5-7e60-4180-94a9-3500c39a3c63",
   "metadata": {},
   "outputs": [],
   "source": [
    "\\c 5 100\n",
    "h:`$\":tpr-mscf-kx.tepper.cmu.edu:5000:mscf2023:LZ8AByXHDaEJdTim\""
   ]
  },
  {
   "cell_type": "code",
   "execution_count": 2,
   "id": "5ea5a1ea-7db4-4ae0-bbc0-e7bd125d672e",
   "metadata": {},
   "outputs": [],
   "source": [
    "/%python\n",
    "import warnings\n",
    "warnings.filterwarnings(\"ignore\")\n",
    "import numpy as np\n",
    "import math\n",
    "import pandas as pd\n",
    "import matplotlib.pyplot as plt\n",
    "import datetime\n",
    "from scipy.optimize import minimize\n",
    "from scipy.optimize import OptimizeResult\n",
    "\n",
    "from sklearn.preprocessing import MinMaxScaler\n",
    "from sklearn.model_selection import train_test_split\n",
    "from tensorflow.keras.models import Sequential\n",
    "from tensorflow.keras.layers import LSTM, Dense\n",
    "\n",
    "plt.style.use('default')"
   ]
  },
  {
   "cell_type": "code",
   "execution_count": 3,
   "metadata": {},
   "outputs": [],
   "source": [
    "/%python \n",
    "\n",
    "#you may want to install tensorflow if you don't have it currently (uncomment following line and run cell)\n",
    "#!pip install tensorflow "
   ]
  },
  {
   "cell_type": "code",
   "execution_count": 3,
   "metadata": {},
   "outputs": [],
   "source": [
    "/ split date\n",
    "train_test_split_date: 2020.02.10"
   ]
  },
  {
   "cell_type": "code",
   "execution_count": 28,
   "metadata": {},
   "outputs": [],
   "source": [
    "/%python \n",
    "#set random seed for reproductability\n",
    "train_test_split_date = '2020-02-10'\n",
    "tensorflow.random.set_seed(15451)\n",
    "np.random.seed(15451)\n"
   ]
  },
  {
   "cell_type": "markdown",
   "id": "94c0ae46-ec65-4432-a1b7-b8ccad5e928e",
   "metadata": {},
   "source": [
    "# Load Data"
   ]
  },
  {
   "cell_type": "code",
   "execution_count": 4,
   "id": "1117fdc0-2e5a-4b93-8d4d-07d64d8c61ca",
   "metadata": {},
   "outputs": [
    {
     "name": "stdout",
     "output_type": "stream",
     "text": [
      "date       sym time                 price  size\n",
      "-----------------------------------------------\n",
      "2020.02.03 SPY 0D09:30:00.003121564 323.35 400 \n",
      "2020.02.03 SPY 0D09:30:00.003130283 323.35 500 \n",
      "2020.02.03 SPY 0D09:30:00.003189672 323.35 500 \n",
      "2020.02.03 SPY 0D09:30:00.003257331 323.35 500 \n",
      "2020.02.03 SPY 0D09:30:00.020404742 323.35 377 \n",
      "..\n"
     ]
    }
   ],
   "source": [
    "loaddata:{[s;c;sd;ed]\n",
    " / YOUR CODE HERE\n",
    " t:select date,sym,time,price,size from trade where date within (sd;ed), sym in s, cond in c;\n",
    " t}\n",
    "\n",
    "/ we are set to use the spy data from trade dataframe \n",
    "show t_save:h (loaddata;`SPY;\" \";2020.02.01;2020.03.01)"
   ]
  },
  {
   "cell_type": "markdown",
   "metadata": {},
   "source": [
    "We take all days before split date to train the model, take one day as testing date"
   ]
  },
  {
   "cell_type": "code",
   "execution_count": 5,
   "id": "4a247e3f-0487-43c7-aa45-e5e82e49253f",
   "metadata": {},
   "outputs": [],
   "source": [
    "train_data: select from t_save where date < train_test_split_date\n",
    "test_data: select from t_save where date = train_test_split_date"
   ]
  },
  {
   "cell_type": "markdown",
   "metadata": {},
   "source": [
    "# Prediction of Price in 30s interval"
   ]
  },
  {
   "cell_type": "code",
   "execution_count": 6,
   "metadata": {},
   "outputs": [],
   "source": [
    "/ aggregate the model into 30 seconds interval, for each second, compute its mean order price. \n",
    "/ Fill missing seconds with previous second's mean order price \n",
    "get_features:{[t]\n",
    " // return the average price and sum of trading sizes within the given time step\n",
    " // no need to do symbol cuz its just spy \n",
    " x_sec: `date xasc select price:(sum (price*size))%sum size,size:sum size by date, time.second from t;\n",
    "\n",
    " keytable: key x_sec;\n",
    " dates: raze 23401#/:distinct keytable[`date];\n",
    " times: 09:30:00 + til (23401);\n",
    " times: raze 5#enlist times;\n",
    " n:count times;\n",
    " x_sec_nan:([date:dates; second:times];price:n#0n; size:n#0n);\n",
    " x_sec_nan: `date xasc select from x_sec_nan;\n",
    "\n",
    " x_sec: aj[`date`second;x_sec_nan;x_sec];\n",
    " x_sec: `date`second xasc select price, size by date, 30 xbar second from x_sec;\n",
    " x_sec}\n",
    "\n",
    "dfs_train: get_features[train_data]\n",
    "x_sec_train: get_features[train_data]"
   ]
  },
  {
   "cell_type": "code",
   "execution_count": 7,
   "metadata": {},
   "outputs": [
    {
     "data": {
      "text/plain": [
       "date       second  | price                                                                       ..\n",
       "-------------------| ----------------------------------------------------------------------------..\n",
       "2020.02.03 09:30:00| 323.349  323.3316 323.2961 323.3162 323.2817 323.3136 323.3208 323.3305 323...\n",
       "2020.02.03 09:30:30| 323.6133 323.5983 323.5907 323.5802 323.58   323.6071 323.6439 323.6405 323...\n",
       "2020.02.03 09:31:00| 323.7415 323.7377 323.7147 323.7437 323.7661 323.7589 323.737  323.7321 323...\n",
       "2020.02.03 09:31:30| 323.751  323.7823 323.7733 323.7502 323.7351 323.715  323.7181 323.7248 323...\n",
       "2020.02.03 09:32:00| 323.819  323.8015 323.7797 323.7647 323.7527 323.7409 323.7188 323.7113 323...\n",
       "..\n"
      ]
     },
     "execution_count": 7,
     "metadata": {},
     "output_type": "execute_result"
    }
   ],
   "source": [
    "/% take a look at the df\n",
    "x_sec_train"
   ]
  },
  {
   "cell_type": "code",
   "execution_count": 8,
   "metadata": {},
   "outputs": [],
   "source": [
    "/% convert to pd df \n",
    "tab2df:{r:.p.import[`pandas; `:DataFrame; x][@; cols x];$[count k:keys x; r[`:set_index]k; r]}\n",
    ".p.set[`x_sec_train] tab2df x_sec_train"
   ]
  },
  {
   "cell_type": "code",
   "execution_count": 9,
   "metadata": {},
   "outputs": [
    {
     "name": "stdout",
     "output_type": "stream",
     "text": [
      "   date  ...                                               size\n",
      "0  7338  ...  [10295, 16685, 2731, 5754, 2100, 7730, 4300, 5...\n",
      "1  7338  ...  [4295, 2959, 4000, 900, 500, 700, 2172, 1397, ...\n",
      "2  7338  ...  [10326, 3407, 2980, 6145, 16701, 11860, 6600, ...\n",
      "3  7338  ...  [4600, 4904, 922, 5738, 1484, 100, 3612, 370, ...\n",
      "4  7338  ...  [1459, 2000, 2900, 816, 1100, 6986, 3000, 1193...\n",
      "\n",
      "[5 rows x 4 columns]\n"
     ]
    }
   ],
   "source": [
    "/%python\n",
    "print(x_sec_train.reset_index().head())"
   ]
  },
  {
   "cell_type": "markdown",
   "metadata": {},
   "source": [
    "so now for each entry in the dataframe, it contains 30 seconds' (average price per second). \n",
    "We learn a model that takes first 29 seconds and predict last 1 second's average price "
   ]
  },
  {
   "cell_type": "code",
   "execution_count": 10,
   "metadata": {},
   "outputs": [],
   "source": [
    "/%python\n",
    "# reset index here so that we split the tuple keys  \n",
    "x_sec_train = x_sec_train.reset_index()"
   ]
  },
  {
   "cell_type": "markdown",
   "metadata": {},
   "source": [
    "Create train function by using first 29 seconds as train sample, last second as prediction step (1 step prediction)\n",
    "Note that we do not suffle the data so that even in training process it is fed into the model in timely order"
   ]
  },
  {
   "cell_type": "code",
   "execution_count": 11,
   "metadata": {},
   "outputs": [],
   "source": [
    "/%python\n",
    "X_train, y_train = [], []\n",
    "count = 0\n",
    "for i in range(len(x_sec_train)):\n",
    "    p = list(x_sec_train.price[i])\n",
    "    try:\n",
    "        y_train.append(p[29])\n",
    "        X_train.append(p[:29])\n",
    "    except:\n",
    "        count += 1\n",
    "X_train, y_train = np.array(X_train), np.array(y_train)"
   ]
  },
  {
   "cell_type": "markdown",
   "metadata": {},
   "source": [
    "The ending second (exactly at 4p.m.) is nan because it does not have exactly 30 time stamps (1 instead, which is what we actually wanted to predict)"
   ]
  },
  {
   "cell_type": "code",
   "execution_count": 12,
   "metadata": {},
   "outputs": [
    {
     "name": "stdout",
     "output_type": "stream",
     "text": [
      "3905 5\n",
      "(3900, 29) (3900,)\n"
     ]
    }
   ],
   "source": [
    "/%python\n",
    "print(len(x_sec_train), count)\n",
    "print(X_train.shape, y_train.shape)"
   ]
  },
  {
   "cell_type": "markdown",
   "metadata": {},
   "source": [
    "We did not do model selection/hyperparameter tuning due to time constraint"
   ]
  },
  {
   "cell_type": "code",
   "execution_count": 15,
   "metadata": {},
   "outputs": [],
   "source": [
    "/%python\n",
    "model = Sequential()\n",
    "# 64 is dimension of the model \n",
    "model.add(LSTM(64, activation='relu', input_shape=(X_train.shape[1], 1)))\n",
    "# dense 1 for one-step ahead prediction \n",
    "model.add(Dense(1)) \n",
    "model.compile(optimizer='adam', loss='mse')"
   ]
  },
  {
   "cell_type": "code",
   "execution_count": 16,
   "metadata": {},
   "outputs": [
    {
     "name": "stdout",
     "output_type": "stream",
     "text": [
      "Epoch 1/5\n",
      "122/122 [==============================] - 1s 4ms/step - loss: 6913.4009\n",
      "Epoch 2/5\n",
      "122/122 [==============================] - 0s 4ms/step - loss: 0.0448\n",
      "Epoch 3/5\n",
      "122/122 [==============================] - 0s 4ms/step - loss: 0.0019\n",
      "Epoch 4/5\n",
      "122/122 [==============================] - 0s 4ms/step - loss: 0.0019\n",
      "Epoch 5/5\n",
      "122/122 [==============================] - 0s 4ms/step - loss: 0.0019\n"
     ]
    }
   ],
   "source": [
    "/%python\n",
    "model.fit(X_train,y_train,epochs=5, batch_size=32)"
   ]
  },
  {
   "cell_type": "markdown",
   "metadata": {},
   "source": [
    "## Inference"
   ]
  },
  {
   "cell_type": "code",
   "execution_count": 17,
   "metadata": {},
   "outputs": [],
   "source": [
    "/ aggregate the model into 30 seconds interval\n",
    "get_features:{[t]\n",
    " // return the average price and sum of trading sizes within the given time step\n",
    " // no need to do symbol cuz its just spy \n",
    " x_sec: `date xasc select price:(sum (price*size))%sum size,size:sum size by date, time.second from t;\n",
    "\n",
    " keytable: key x_sec;\n",
    " a: count distinct keytable[`date];\n",
    " dates: raze 23401#/:distinct keytable[`date];\n",
    " times: 09:30:00 + til (23401);\n",
    " times: raze a#enlist times;\n",
    " n:count times;\n",
    " x_sec_nan:([date:dates; second:times];price:n#0n; size:n#0n);\n",
    " x_sec_nan: `date xasc select from x_sec_nan;\n",
    "\n",
    " x_sec: aj[`date`second;x_sec_nan;x_sec];\n",
    " x_sec: `date`second xasc select price, size by date, 30 xbar second from x_sec;\n",
    " x_sec}\n",
    "\n",
    "\n",
    "x_sec_test: get_features[test_data]"
   ]
  },
  {
   "cell_type": "code",
   "execution_count": 18,
   "metadata": {},
   "outputs": [
    {
     "data": {
      "text/plain": [
       "date       second  | price                                                                       ..\n",
       "-------------------| ----------------------------------------------------------------------------..\n",
       "2020.02.10 09:30:00| 331.2532 331.2852 331.3175 331.279  331.2561 331.2627 331.2621 331.26   331...\n",
       "2020.02.10 09:30:30| 331.5079 331.48   331.4668 331.47   331.47   331.436  331.4067 331.4156 331...\n",
       "2020.02.10 09:31:00| 331.3167 331.3333 331.3707 331.4056 331.4152 331.3742 331.3617 331.3506 331...\n",
       "2020.02.10 09:31:30| 331.3979 331.396  331.4    331.3953 331.3921 331.4003 331.43   331.41   331...\n",
       "2020.02.10 09:32:00| 331.5373 331.5833 331.5984 331.6042 331.5736 331.5983 331.6    331.61   331...\n",
       "..\n"
      ]
     },
     "execution_count": 18,
     "metadata": {},
     "output_type": "execute_result"
    }
   ],
   "source": [
    ".p.set[`x_sec_test] tab2df x_sec_test\n",
    "x_sec_test"
   ]
  },
  {
   "cell_type": "code",
   "execution_count": 19,
   "metadata": {},
   "outputs": [],
   "source": [
    "/%python\n",
    "x_sec_test = x_sec_test.reset_index()"
   ]
  },
  {
   "cell_type": "markdown",
   "metadata": {},
   "source": [
    "Drop the last second as explained before"
   ]
  },
  {
   "cell_type": "code",
   "execution_count": 24,
   "metadata": {},
   "outputs": [],
   "source": [
    "/%python \n",
    "x_sec_test = x_sec_test.drop(x_sec_test.index[-1])"
   ]
  },
  {
   "cell_type": "code",
   "execution_count": 25,
   "metadata": {},
   "outputs": [],
   "source": [
    "/%python\n",
    "X_test, y_test = [], []\n",
    "count = 0\n",
    "for i in range(len(x_sec_test)):\n",
    "    p = list(x_sec_test.price[i])\n",
    "    try:\n",
    "        y_test.append(p[29])\n",
    "        X_test.append(p[:29])\n",
    "    except:\n",
    "        count += 1\n",
    "X_test, y_test = np.array(X_test), np.array(y_test)"
   ]
  },
  {
   "cell_type": "code",
   "execution_count": 26,
   "metadata": {},
   "outputs": [
    {
     "name": "stdout",
     "output_type": "stream",
     "text": [
      "25/25 [==============================] - 0s 1ms/step\n"
     ]
    }
   ],
   "source": [
    "/%python\n",
    "predictions = model.predict(X_test)"
   ]
  },
  {
   "cell_type": "markdown",
   "metadata": {},
   "source": [
    "extract predictions and create an prediction vs actual plot"
   ]
  },
  {
   "cell_type": "code",
   "execution_count": 27,
   "metadata": {},
   "outputs": [
    {
     "data": {
      "image/png": "[encoded data removed]",
      "text/plain": [
       "<Figure size 640x480 with 1 Axes>"
      ]
     },
     "metadata": {},
     "output_type": "display_data"
    }
   ],
   "source": [
    "/%python\n",
    "predictions = [i[0] for i in predictions]\n",
    "import matplotlib.pyplot as plt\n",
    "plt.plot(predictions, label='LSTM Predictions')\n",
    "plt.plot(y_test, label='Ground Truth')\n",
    "plt.legend()\n",
    "plt.show()"
   ]
  },
  {
   "cell_type": "markdown",
   "metadata": {},
   "source": [
    "## Extract result"
   ]
  },
  {
   "cell_type": "markdown",
   "metadata": {},
   "source": [
    "The resulting dataframe has two columns (time, t and prediction, p)\n",
    "at the same row, prediction p indicates the predicted price based on the information of 29 seconds starting from\n",
    "time t"
   ]
  },
  {
   "cell_type": "code",
   "execution_count": 35,
   "metadata": {},
   "outputs": [
    {
     "name": "stdout",
     "output_type": "stream",
     "text": [
      "                 Time  Prediction\n",
      "0 2020-02-10 09:30:00  331.394135\n",
      "1 2020-02-10 09:30:30  331.417236\n",
      "2 2020-02-10 09:31:00  331.392273\n",
      "3 2020-02-10 09:31:30  331.436249\n",
      "4 2020-02-10 09:32:00  331.605438\n"
     ]
    }
   ],
   "source": [
    "/%python\n",
    "# Specify the date\n",
    "start_date = train_test_split_date\n",
    "\n",
    "# Specify the start and end times\n",
    "start_time = '09:30:00'\n",
    "end_time = '16:00:00'\n",
    "\n",
    "# Create a DatetimeIndex with 30-second frequency\n",
    "time_range = pd.date_range(start=f'{start_date} {start_time}', end=f'{start_date} {end_time}', freq='30S')\n",
    "\n",
    "# Create a pandas Series with the time range\n",
    "time_series = pd.Series(time_range)[:-1]\n",
    "\n",
    "df = pd.DataFrame({'Time': time_series, 'Prediction': predictions})\n",
    "\n",
    "print(df.head())"
   ]
  }
 ],
 "metadata": {
  "kernelspec": {
   "display_name": "Q (kdb+)",
   "language": "q",
   "name": "qpk"
  },
  "language_info": {
   "file_extension": ".q",
   "mimetype": "text/x-q",
   "name": "q",
   "version": "4.0"
  }
 },
 "nbformat": 4,
 "nbformat_minor": 5
}
