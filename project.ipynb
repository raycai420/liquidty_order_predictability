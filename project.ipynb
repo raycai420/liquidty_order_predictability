{
 "cells": [
  {
   "cell_type": "code",
   "execution_count": 1,
   "id": "7d7f56e5-7e60-4180-94a9-3500c39a3c63",
   "metadata": {},
   "outputs": [],
   "source": [
    "\\c 5 100\n",
    "h:`$\":tpr-mscf-kx.tepper.cmu.edu:5000:mscf2023:LZ8AByXHDaEJdTim\""
   ]
  },
  {
   "cell_type": "code",
   "execution_count": 2,
   "id": "5ea5a1ea-7db4-4ae0-bbc0-e7bd125d672e",
   "metadata": {},
   "outputs": [],
   "source": [
    "/%python\n",
    "import warnings\n",
    "warnings.filterwarnings(\"ignore\")\n",
    "import numpy as np\n",
    "import math\n",
    "import pandas as pd\n",
    "import matplotlib.pyplot as plt\n",
    "import datetime\n",
    "from scipy.optimize import minimize\n",
    "from scipy.optimize import OptimizeResult\n",
    "\n",
    "from sklearn.preprocessing import MinMaxScaler\n",
    "from sklearn.model_selection import train_test_split\n",
    "from tensorflow.keras.models import Sequential\n",
    "from tensorflow.keras.layers import LSTM, Dense\n",
    "\n",
    "plt.style.use('default')"
   ]
  },
  {
   "cell_type": "code",
   "execution_count": 3,
   "metadata": {},
   "outputs": [],
   "source": [
    "/%python \n",
    "\n",
    "#you may want to install tensorflow if you don't have it currently (uncomment following line and run cell)\n",
    "#!pip install tensorflow "
   ]
  },
  {
   "cell_type": "code",
   "execution_count": 4,
   "metadata": {},
   "outputs": [
    {
     "data": {
      "text/plain": [
       "1\n"
      ]
     },
     "execution_count": 4,
     "metadata": {},
     "output_type": "execute_result"
    },
    {
     "data": {
      "text/plain": [
       "1\n"
      ]
     },
     "execution_count": 4,
     "metadata": {},
     "output_type": "execute_result"
    },
    {
     "data": {
      "text/plain": [
       "1\n"
      ]
     },
     "execution_count": 4,
     "metadata": {},
     "output_type": "execute_result"
    }
   ],
   "source": [
    "/ since we only have ~30 days of data, we use ~50:50 split\n",
    "train_test_split_date: 2020.02.15 \n",
    "\n",
    "hr: 7; 1\n",
    "minute: 29; 1\n",
    "sec: 29; 1"
   ]
  },
  {
   "cell_type": "markdown",
   "id": "94c0ae46-ec65-4432-a1b7-b8ccad5e928e",
   "metadata": {},
   "source": [
    "# Load Data"
   ]
  },
  {
   "cell_type": "code",
   "execution_count": 15,
   "id": "1117fdc0-2e5a-4b93-8d4d-07d64d8c61ca",
   "metadata": {},
   "outputs": [
    {
     "name": "stdout",
     "output_type": "stream",
     "text": [
      "date       sym  time                 price  size\n",
      "------------------------------------------------\n",
      "2020.02.03 AAPL 0D09:30:00.104222076 304.25 200 \n",
      "2020.02.03 AAPL 0D09:30:00.104222222 304.25 300 \n",
      "2020.02.03 AAPL 0D09:30:00.115302599 304.16 100 \n",
      "2020.02.03 AAPL 0D09:30:00.420630361 304.18 120 \n",
      "2020.02.03 AAPL 0D09:30:00.425902385 304.18 100 \n",
      "..\n"
     ]
    }
   ],
   "source": [
    "loaddata:{[s;c;sd;ed]\n",
    " / YOUR CODE HERE\n",
    " t:select date,sym,time,price,size from trade where date within (sd;ed), sym in s, cond in c;\n",
    " t}\n",
    "\n",
    "show t_save:h (loaddata;`AAPL`NVDA`BABA;\" \";2020.02.01;2020.03.01)"
   ]
  },
  {
   "cell_type": "code",
   "execution_count": 16,
   "id": "4a247e3f-0487-43c7-aa45-e5e82e49253f",
   "metadata": {},
   "outputs": [],
   "source": [
    "train_data: select from t_save where date < train_test_split_date\n",
    "test_data: select from t_save where date >= train_test_split_date"
   ]
  },
  {
   "cell_type": "code",
   "execution_count": 17,
   "metadata": {},
   "outputs": [
    {
     "data": {
      "text/plain": [
       "1409243\n"
      ]
     },
     "execution_count": 17,
     "metadata": {},
     "output_type": "execute_result"
    }
   ],
   "source": [
    "count train_data"
   ]
  },
  {
   "cell_type": "markdown",
   "id": "c7884ab8-ecf0-4143-8e7a-1864ac0cbb15",
   "metadata": {},
   "source": [
    "# Calculate predictability for k stocks\n",
    "1. For seconds, minutes, hours frequency over D days, get MSE_i for stock i\n",
    "2. return (k, n/D, 3)\n",
    "3. Prediction model (average)\n",
    "   - Autoregressive moving average model (ARIMA)\n",
    "   - LSTM"
   ]
  },
  {
   "cell_type": "code",
   "execution_count": 20,
   "id": "61eb8c61-993d-4e57-a614-6c9216893f8c",
   "metadata": {},
   "outputs": [],
   "source": [
    "get_features:{[t]\n",
    " // return the average price and sum of trading sizes within the given time step\n",
    " x_sec: `sym`date`second xasc select price:(sum (price*size))%sum size,size:sum size by date, time.second, sym from t;\n",
    " x_min: `sym`date`minute xasc select price:(sum (price*size))%sum size,size:sum size by date, time.minute, sym from t;\n",
    " x_hr: `sym`date`hh xasc select price:(sum (price*size))%sum size,size:sum size by date, time.hh, sym from t;\n",
    " dfs: (x_sec;x_min;x_hr);\n",
    " dfs}\n",
    "\n",
    "dfs_train: get_features[train_data]\n",
    "x_sec_train: dfs_train[0]\n",
    "x_min_train: dfs_train[1]\n",
    "x_hr_train: dfs_train[2]\n",
    "\n",
    "dfs_test: get_features[test_data]\n",
    "x_sec_test: dfs_test[0]\n",
    "x_min_test: dfs_test[1]\n",
    "x_hr_test: dfs_test[2]"
   ]
  },
  {
   "cell_type": "code",
   "execution_count": 21,
   "metadata": {},
   "outputs": [
    {
     "data": {
      "text/plain": [
       "11713\n"
      ]
     },
     "execution_count": 21,
     "metadata": {},
     "output_type": "execute_result"
    }
   ],
   "source": [
    "count x_min_train"
   ]
  },
  {
   "cell_type": "code",
   "execution_count": 22,
   "metadata": {},
   "outputs": [
    {
     "data": {
      "text/plain": [
       "date       second   sym | price    size \n",
       "------------------------| --------------\n",
       "2020.02.03 09:30:00 AAPL| 304.1988 1605 \n",
       "2020.02.03 09:30:01 AAPL| 303.8334 25192\n",
       "2020.02.03 09:30:02 AAPL| 303.5746 42265\n",
       "2020.02.03 09:30:03 AAPL| 303.3663 46598\n",
       "2020.02.03 09:30:04 AAPL| 302.7891 76661\n",
       "..\n"
      ]
     },
     "execution_count": 22,
     "metadata": {},
     "output_type": "execute_result"
    }
   ],
   "source": [
    "x_sec_train"
   ]
  },
  {
   "cell_type": "code",
   "execution_count": 23,
   "metadata": {},
   "outputs": [],
   "source": [
    "tab2df:{r:.p.import[`pandas; `:DataFrame; x][@; cols x];$[count k:keys x; r[`:set_index]k; r]}\n",
    ".p.set[`x_sec_train] tab2df x_sec_train\n",
    ".p.set[`x_min_train] tab2df x_min_train\n",
    ".p.set[`x_hr_train] tab2df x_hr_train\n",
    "\n",
    ".p.set[`x_sec_test] tab2df x_sec_test\n",
    ".p.set[`x_min_test] tab2df x_min_test\n",
    ".p.set[`x_hr_test] tab2df x_hr_test"
   ]
  },
  {
   "cell_type": "code",
   "execution_count": 24,
   "metadata": {},
   "outputs": [],
   "source": [
    "/%python\n",
    "x_sec_train = x_sec_train.reset_index()\n",
    "x_min_train = x_min_train.reset_index()\n",
    "x_hr_train = x_hr_train.reset_index()\n",
    "\n",
    "/%python\n",
    "x_sec_test = x_sec_test.reset_index()\n",
    "x_min_test = x_min_test.reset_index()\n",
    "x_hr_test = x_hr_test.reset_index()"
   ]
  },
  {
   "cell_type": "code",
   "execution_count": 25,
   "metadata": {},
   "outputs": [
    {
     "name": "stdout",
     "output_type": "stream",
     "text": [
      "       date  minute   sym       price    size\n",
      "0      7338     570  AAPL  303.119055  763455\n",
      "1      7338     571  AAPL  303.366303  336694\n",
      "2      7338     572  AAPL  304.556376  312660\n",
      "3      7338     573  AAPL  305.350792  297707\n",
      "4      7338     574  AAPL  306.152994  256220\n",
      "...     ...     ...   ...         ...     ...\n",
      "11708  7349     956  NVDA  290.312920   36544\n",
      "11709  7349     957  NVDA  290.191727   40705\n",
      "11710  7349     958  NVDA  290.074701   67262\n",
      "11711  7349     959  NVDA  290.025955   86985\n",
      "11712  7349     960  NVDA  289.800000    5777\n",
      "\n",
      "[11713 rows x 5 columns]\n"
     ]
    }
   ],
   "source": [
    "/%python\n",
    "print(x_min_train)"
   ]
  },
  {
   "cell_type": "code",
   "execution_count": 26,
   "metadata": {},
   "outputs": [],
   "source": [
    "/%python\n",
    "def convert_gregorian_date(date, input, scale):\n",
    "    hour, minute, second = 0, 0, 0\n",
    "    if scale == 'hour':\n",
    "        hour = input\n",
    "    elif scale == 'minute':\n",
    "        hour = input // 60\n",
    "        minute = input % 60\n",
    "    else:\n",
    "        second = input % 60\n",
    "        minute = (input//60) % 60\n",
    "        hour = (input//60//60) % 60\n",
    "    mjd_start = datetime.datetime(2000, 1, 1)\n",
    "    gregorian_date = mjd_start + datetime.timedelta(date)\n",
    "    \n",
    "    # Combine with the hour\n",
    "    datetime_obj = datetime.datetime(gregorian_date.year, gregorian_date.month, gregorian_date.day, hour, minute, second)\n",
    "    \n",
    "    # Convert to Pandas datetime\n",
    "    pandas_datetime = pd.to_datetime(datetime_obj)\n",
    "\n",
    "    return pandas_datetime\n",
    "\n",
    "x_sec_train['date'] = x_sec_train.apply(lambda row : convert_gregorian_date(row['date'], row['second'], scale='second'), axis=1)\n",
    "x_sec_train.drop(['second'], axis=1, inplace=True)\n",
    "x_sec_train.set_index('date', inplace=True)\n",
    "\n",
    "x_min_train['date'] = x_min_train.apply(lambda row : convert_gregorian_date(row['date'], row['minute'], scale='minute'), axis=1)\n",
    "x_min_train.drop(['minute'], axis=1, inplace=True)\n",
    "x_min_train.set_index('date', inplace=True)\n",
    "\n",
    "x_hr_train['date'] = x_hr_train.apply(lambda row : convert_gregorian_date(row['date'], row['hh'], scale='hour'), axis=1)\n",
    "x_hr_train.drop(['hh'], axis=1, inplace=True)\n",
    "x_hr_train.set_index('date', inplace=True)"
   ]
  },
  {
   "cell_type": "code",
   "execution_count": 39,
   "metadata": {},
   "outputs": [],
   "source": [
    "/%python\n",
    "x_sec_test['date'] = x_sec_test.apply(lambda row : convert_gregorian_date(row['date'], row['second'], scale='second'), axis=1)\n",
    "x_sec_test.drop(['second'], axis=1, inplace=True)\n",
    "x_sec_test.set_index('date', inplace=True)\n",
    "\n",
    "x_min_test['date'] = x_min_test.apply(lambda row : convert_gregorian_date(row['date'], row['minute'], scale='minute'), axis=1)\n",
    "x_min_test.drop(['minute'], axis=1, inplace=True)\n",
    "x_min_test.set_index('date', inplace=True)\n",
    "\n",
    "x_hr_test['date'] = x_hr_test.apply(lambda row : convert_gregorian_date(row['date'], row['hh'], scale='hour'), axis=1)\n",
    "x_hr_test.drop(['hh'], axis=1, inplace=True)\n",
    "x_hr_test.set_index('date', inplace=True)"
   ]
  },
  {
   "cell_type": "code",
   "execution_count": 27,
   "metadata": {},
   "outputs": [
    {
     "name": "stdout",
     "output_type": "stream",
     "text": [
      "                      sym       price    size\n",
      "date                                         \n",
      "2020-02-03 09:30:00  AAPL  303.119055  763455\n",
      "2020-02-03 09:31:00  AAPL  303.366303  336694\n",
      "2020-02-03 09:32:00  AAPL  304.556376  312660\n",
      "2020-02-03 09:33:00  AAPL  305.350792  297707\n",
      "2020-02-03 09:34:00  AAPL  306.152994  256220\n",
      "...                   ...         ...     ...\n",
      "2020-02-14 15:56:00  NVDA  290.312920   36544\n",
      "2020-02-14 15:57:00  NVDA  290.191727   40705\n",
      "2020-02-14 15:58:00  NVDA  290.074701   67262\n",
      "2020-02-14 15:59:00  NVDA  290.025955   86985\n",
      "2020-02-14 16:00:00  NVDA  289.800000    5777\n",
      "\n",
      "[11713 rows x 3 columns]\n"
     ]
    }
   ],
   "source": [
    "/%python\n",
    "print(x_min_train)"
   ]
  },
  {
   "cell_type": "markdown",
   "metadata": {},
   "source": [
    "## LSTM"
   ]
  },
  {
   "cell_type": "markdown",
   "metadata": {},
   "source": [
    "prepare data for tensorflow lstm"
   ]
  },
  {
   "cell_type": "code",
   "execution_count": 29,
   "metadata": {},
   "outputs": [],
   "source": [
    "/%python\n",
    "min_seq_length = 29\n",
    "#train \n",
    "X_train, X_test, y_train, y_test = [], [], [], []\n",
    "for sym in x_min_train.sym.unique():\n",
    "    tmp = x_min_train[x_min_train['sym'] == sym].copy().reset_index()\n",
    "    scaler = MinMaxScaler()\n",
    "    tmp['price'] = scaler.fit_transform(tmp[['price']])\n",
    "\n",
    "    for i in range(len(tmp) - min_seq_length - 1):\n",
    "        X_train.append(tmp['price'].values[i:i+min_seq_length])\n",
    "        y_train.append(tmp['price'].values[i+min_seq_length])\n",
    "\n",
    "X_train = np.array(X_train)\n",
    "y_train = np.array(y_train)"
   ]
  },
  {
   "cell_type": "code",
   "execution_count": 30,
   "metadata": {},
   "outputs": [
    {
     "name": "stdout",
     "output_type": "stream",
     "text": [
      "(11623, 29) (11623,)\n"
     ]
    }
   ],
   "source": [
    "/%python\n",
    "print(X_train.shape, y_train.shape)"
   ]
  },
  {
   "cell_type": "code",
   "execution_count": 34,
   "metadata": {},
   "outputs": [],
   "source": [
    "/%python\n",
    "model = Sequential()\n",
    "# 64 is dimension of the model \n",
    "model.add(LSTM(64, activation='relu', input_shape=(X_train.shape[1], 1)))\n",
    "# dense 1 for one-step ahead prediction \n",
    "model.add(Dense(1)) \n",
    "model.compile(optimizer='adam', loss='mse')"
   ]
  },
  {
   "cell_type": "code",
   "execution_count": 35,
   "metadata": {},
   "outputs": [
    {
     "name": "stdout",
     "output_type": "stream",
     "text": [
      "Epoch 1/5\n",
      "364/364 [==============================] - 2s 4ms/step - loss: 0.0088\n",
      "Epoch 2/5\n",
      "364/364 [==============================] - 1s 4ms/step - loss: 3.6074e-04\n",
      "Epoch 3/5\n",
      "364/364 [==============================] - 1s 4ms/step - loss: 2.6808e-04\n",
      "Epoch 4/5\n",
      "364/364 [==============================] - 1s 4ms/step - loss: 2.3962e-04\n",
      "Epoch 5/5\n",
      "364/364 [==============================] - 1s 4ms/step - loss: 2.1099e-04\n"
     ]
    }
   ],
   "source": [
    "/%python\n",
    "model.fit(X_train, y_train, epochs=5, batch_size=32)"
   ]
  },
  {
   "cell_type": "code",
   "execution_count": 48,
   "metadata": {},
   "outputs": [
    {
     "name": "stdout",
     "output_type": "stream",
     "text": [
      "[ True  True  True ... False False False]\n"
     ]
    }
   ],
   "source": [
    "/%python\n",
    "print(x_min_test.index.date == np.unique(x_min_test.index.date)[0])"
   ]
  },
  {
   "cell_type": "code",
   "execution_count": 71,
   "metadata": {},
   "outputs": [
    {
     "name": "stdout",
     "output_type": "stream",
     "text": [
      "12/12 [==============================] - 0s 2ms/step\n",
      "12/12 [==============================] - 0s 1ms/step\n",
      "12/12 [==============================] - 0s 3ms/step\n",
      "12/12 [==============================] - 0s 1ms/step\n",
      "12/12 [==============================] - 0s 1ms/step\n",
      "12/12 [==============================] - 0s 1ms/step\n",
      "12/12 [==============================] - 0s 1ms/step\n",
      "12/12 [==============================] - 0s 1ms/step\n",
      "12/12 [==============================] - 0s 1ms/step\n",
      "12/12 [==============================] - 0s 1ms/step\n",
      "12/12 [==============================] - 0s 1ms/step\n",
      "12/12 [==============================] - 0s 1ms/step\n",
      "12/12 [==============================] - 0s 1ms/step\n",
      "12/12 [==============================] - 0s 1ms/step\n",
      "12/12 [==============================] - 0s 1ms/step\n",
      "12/12 [==============================] - 0s 1ms/step\n",
      "12/12 [==============================] - 0s 1ms/step\n",
      "12/12 [==============================] - 0s 1ms/step\n",
      "12/12 [==============================] - 0s 1ms/step\n",
      "12/12 [==============================] - 0s 1ms/step\n",
      "12/12 [==============================] - 0s 1ms/step\n",
      "12/12 [==============================] - 0s 1ms/step\n",
      "12/12 [==============================] - 0s 1ms/step\n",
      "12/12 [==============================] - 0s 1ms/step\n",
      "12/12 [==============================] - 0s 1ms/step\n",
      "12/12 [==============================] - 0s 1ms/step\n",
      "12/12 [==============================] - 0s 1ms/step\n"
     ]
    }
   ],
   "source": [
    "/%python\n",
    "min_seq_length = 29\n",
    "#test\n",
    "columns = ['sym', 'date', 'mse']\n",
    "result = pd.DataFrame(columns=columns)\n",
    "def g(x):\n",
    "    return x.strftime('%Y-%m-%d')\n",
    "\n",
    "for sym in x_min_test.sym.unique():\n",
    "    for date in sorted(np.unique(x_min_test.index.date)):\n",
    "        X_test, y_test = [], []\n",
    "        tmp = x_min_test[x_min_test['sym'] == sym].copy()\n",
    "        tmp['dates'] = tmp.index.date\n",
    "        tmp['dates'] = tmp['dates'].apply(g)\n",
    "    \n",
    "        tmp = tmp[tmp['dates'] == str(date)]\n",
    "        \n",
    "        \n",
    "        scaler = MinMaxScaler()\n",
    "        tmp['price'] = scaler.fit_transform(tmp[['price']])\n",
    "\n",
    "        for i in range(len(tmp) - min_seq_length - 1):\n",
    "            X_test.append(tmp['price'].values[i:i+min_seq_length])\n",
    "            y_test.append(tmp['price'].values[i+min_seq_length])\n",
    "\n",
    "        X_test = np.array(X_test)\n",
    "        y_test = np.array(y_test)\n",
    "\n",
    "        predictions = model.predict(X_test)\n",
    "        predictions = scaler.inverse_transform(predictions)\n",
    "        y_test = scaler.inverse_transform(np.array([[i] for i in y_test]))\n",
    "\n",
    "        predictions = np.array([i[0] for i in predictions])\n",
    "        y_test = np.array([i[0] for i in y_test])\n",
    "\n",
    "        mse = np.mean(sum((predictions - y_test)**2))   \n",
    "\n",
    "        data_to_append = {'sym': sym, 'date': date, 'mse':mse}\n",
    "        new_data = [data_to_append]\n",
    "        new_df = pd.DataFrame(new_data, columns=columns)\n",
    "        result = pd.concat([result, new_df], ignore_index=True)"
   ]
  },
  {
   "cell_type": "code",
   "execution_count": 72,
   "metadata": {},
   "outputs": [
    {
     "name": "stdout",
     "output_type": "stream",
     "text": [
      "     sym        date         mse  predictability\n",
      "0   AAPL  2020-02-18    9.540642        1.048147\n",
      "1   AAPL  2020-02-19    4.569171        2.188581\n",
      "2   AAPL  2020-02-20   16.955913        0.589765\n",
      "3   AAPL  2020-02-21   17.626297        0.567334\n",
      "4   AAPL  2020-02-24   34.572656        0.289246\n",
      "5   AAPL  2020-02-25   63.166462        0.158312\n",
      "6   AAPL  2020-02-26   58.466220        0.171039\n",
      "7   AAPL  2020-02-27  119.740932        0.083514\n",
      "8   AAPL  2020-02-28  251.474519        0.039765\n",
      "9   BABA  2020-02-18    4.153271        2.407741\n",
      "10  BABA  2020-02-19    3.003813        3.329102\n",
      "11  BABA  2020-02-20   20.046818        0.498832\n",
      "12  BABA  2020-02-21    9.273950        1.078289\n",
      "13  BABA  2020-02-24   12.520254        0.798706\n",
      "14  BABA  2020-02-25   16.447196        0.608006\n",
      "15  BABA  2020-02-26   22.087120        0.452753\n",
      "16  BABA  2020-02-27   41.219737        0.242602\n",
      "17  BABA  2020-02-28   41.505449        0.240932\n",
      "18  NVDA  2020-02-18   27.491416        0.363750\n",
      "19  NVDA  2020-02-19   21.608222        0.462787\n",
      "20  NVDA  2020-02-20  132.992213        0.075192\n",
      "21  NVDA  2020-02-21   42.712246        0.234125\n",
      "22  NVDA  2020-02-24   67.830833        0.147426\n",
      "23  NVDA  2020-02-25  134.065265        0.074591\n",
      "24  NVDA  2020-02-26   91.904255        0.108809\n",
      "25  NVDA  2020-02-27  168.449187        0.059365\n",
      "26  NVDA  2020-02-28  294.573413        0.033947\n"
     ]
    }
   ],
   "source": [
    "/%python\n",
    "result['predictability'] = 10/result['mse']\n",
    "print(result)"
   ]
  },
  {
   "cell_type": "markdown",
   "metadata": {},
   "source": [
    "# Liquidity"
   ]
  },
  {
   "cell_type": "code",
   "execution_count": 73,
   "metadata": {},
   "outputs": [],
   "source": [
    "liquidity:{[s;sd;ed]\n",
    " / YOUR CODE HERE\n",
    " t:select date, sym, close, price, size from daily where date within (sd;ed), sym in s;\n",
    " t:update illiquidity: abs[log close%prev close]%price by sym from t;\n",
    " t}"
   ]
  },
  {
   "cell_type": "code",
   "execution_count": 75,
   "metadata": {},
   "outputs": [
    {
     "name": "stdout",
     "output_type": "stream",
     "text": [
      "date       sym  close  price        size     illiquidity \n",
      "---------------------------------------------------------\n",
      "2020.02.18 AAPL 319.75 1.308471e+10 41227703             \n",
      "2020.02.18 MRNA 19.08  8.148386e+07 4321874              \n",
      "2020.02.19 AAPL 324.22 8.520131e+09 26363364 1.629418e-12\n",
      "2020.02.19 MRNA 19.15  6.363299e+07 3354162  5.754955e-11\n",
      "2020.02.20 AAPL 319.2  8.544906e+09 26611284 1.826168e-12\n",
      "..\n"
     ]
    }
   ],
   "source": [
    "show liquidity_df: h (liquidity; `AAPL`MRNA; 2020.02.17; 2020.02.28)"
   ]
  },
  {
   "cell_type": "code",
   "execution_count": 76,
   "metadata": {},
   "outputs": [],
   "source": [
    ".p.set[`liquidity_df] tab2df liquidity_df"
   ]
  },
  {
   "cell_type": "code",
   "execution_count": 77,
   "metadata": {},
   "outputs": [],
   "source": [
    "/%python \n",
    "def f(x):\n",
    "    #convert date time into readable form \n",
    "    original_date_str = \"2020-02-03\"\n",
    "    original_date = datetime.datetime.strptime(original_date_str, \"%Y-%m-%d\")\n",
    "    new_date = original_date + datetime.timedelta(days=x - 7339)\n",
    "    new_date_str = new_date.strftime(\"%Y-%m-%d\")\n",
    "    return new_date_str\n",
    "liquidity_df['date'] = liquidity_df['date'].apply(f)"
   ]
  },
  {
   "cell_type": "code",
   "execution_count": 79,
   "metadata": {},
   "outputs": [
    {
     "name": "stdout",
     "output_type": "stream",
     "text": [
      "          date   sym     close  ...       size   illiquidity    liquidity\n",
      "0   2020-02-17  AAPL  319.7500  ...   41227703           NaN          NaN\n",
      "1   2020-02-17  MRNA   19.0800  ...    4321874           NaN          NaN\n",
      "2   2020-02-18  AAPL  324.2200  ...   26363364  1.629418e-12   613.715938\n",
      "3   2020-02-18  MRNA   19.1500  ...    3354162  5.754955e-11    17.376332\n",
      "4   2020-02-19  AAPL  319.2000  ...   26611284  1.826168e-12   547.594788\n",
      "5   2020-02-19  MRNA   18.6000  ...    5102817  3.052522e-10     3.275980\n",
      "6   2020-02-23  AAPL  301.1000  ...   61251363  3.183945e-12   314.075761\n",
      "7   2020-02-23  MRNA   22.0000  ...    7889616  1.098744e-09     0.910130\n",
      "8   2020-02-24  AAPL  288.3900  ...   60986813  2.413038e-12   414.415318\n",
      "9   2020-02-24  MRNA   25.9700  ...   66516551  1.085318e-10     9.213890\n",
      "10  2020-02-25  AAPL  290.2999  ...   52675770  4.280385e-13  2336.238287\n",
      "11  2020-02-25  MRNA   32.9800  ...   79764455  1.049101e-10     9.531972\n",
      "12  2020-02-26  AAPL  270.8000  ...   85257068  2.918024e-12   342.697635\n",
      "13  2020-02-26  MRNA   27.5200  ...   70032960  8.555916e-11    11.687819\n",
      "14  2020-02-27  AAPL  275.1000  ...  115068998  5.124124e-13  1951.553007\n",
      "15  2020-02-27  MRNA   25.0000  ...   25421129  1.598424e-10     6.256160\n",
      "\n",
      "[16 rows x 7 columns]\n"
     ]
    }
   ],
   "source": [
    "/%python \n",
    "liquidity_df['liquidity']= 1/liquidity_df['illiquidity'] * 1e-9\n",
    "print(liquidity_df)"
   ]
  },
  {
   "cell_type": "markdown",
   "metadata": {},
   "source": [
    "# Sample Comparison"
   ]
  },
  {
   "cell_type": "code",
   "execution_count": null,
   "metadata": {},
   "outputs": [],
   "source": []
  }
 ],
 "metadata": {
  "kernelspec": {
   "display_name": "Q (kdb+)",
   "language": "q",
   "name": "qpk"
  },
  "language_info": {
   "file_extension": ".q",
   "mimetype": "text/x-q",
   "name": "q",
   "version": "4.0"
  }
 },
 "nbformat": 4,
 "nbformat_minor": 5
}
