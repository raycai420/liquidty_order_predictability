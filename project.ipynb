{
 "cells": [
  {
   "cell_type": "code",
   "execution_count": 1,
   "id": "7d7f56e5-7e60-4180-94a9-3500c39a3c63",
   "metadata": {},
   "outputs": [],
   "source": [
    "\\c 5 100\n",
    "h:`$\":tpr-mscf-kx.tepper.cmu.edu:5000:mscf2023:LZ8AByXHDaEJdTim\""
   ]
  },
  {
   "cell_type": "code",
   "execution_count": 2,
   "id": "5ea5a1ea-7db4-4ae0-bbc0-e7bd125d672e",
   "metadata": {},
   "outputs": [],
   "source": [
    "/%python\n",
    "import warnings\n",
    "warnings.filterwarnings(\"ignore\")\n",
    "import numpy as np\n",
    "import math\n",
    "import pandas as pd\n",
    "import matplotlib.pyplot as plt\n",
    "from scipy.optimize import minimize\n",
    "from scipy.optimize import OptimizeResult\n",
    "plt.style.use('default')"
   ]
  },
  {
   "cell_type": "markdown",
   "id": "94c0ae46-ec65-4432-a1b7-b8ccad5e928e",
   "metadata": {},
   "source": [
    "### Load Data"
   ]
  },
  {
   "cell_type": "code",
   "execution_count": 17,
   "id": "1117fdc0-2e5a-4b93-8d4d-07d64d8c61ca",
   "metadata": {},
   "outputs": [
    {
     "name": "stdout",
     "output_type": "stream",
     "text": [
      "date       sym  time                 price  size\n",
      "------------------------------------------------\n",
      "2020.02.03 AAPL 0D09:30:00.104222076 304.25 200 \n",
      "2020.02.03 AAPL 0D09:30:00.104222222 304.25 300 \n",
      "2020.02.03 AAPL 0D09:30:00.115302599 304.16 100 \n",
      "2020.02.03 AAPL 0D09:30:00.420630361 304.18 120 \n",
      "2020.02.03 AAPL 0D09:30:00.425902385 304.18 100 \n",
      "..\n"
     ]
    }
   ],
   "source": [
    "loaddata:{[s;c;sd;ed]\n",
    " / YOUR CODE HERE\n",
    " t:select date,sym,time,price,size from trade where date within (sd;ed), sym in s, cond in c;\n",
    " t}\n",
    "\n",
    "show t_save:h (loaddata;`AAPL`NVDA`BABA;\" \";2020.02.01;2020.02.05)"
   ]
  },
  {
   "cell_type": "code",
   "execution_count": 18,
   "id": "536180ce-7641-43d1-811c-b43dae1ee97f",
   "metadata": {},
   "outputs": [
    {
     "name": "stdout",
     "output_type": "stream",
     "text": [
      "date       sym  time                 price  size return      \n",
      "-------------------------------------------------------------\n",
      "2020.02.03 AAPL 0D09:30:00.104222076 304.25 200  0           \n",
      "2020.02.03 AAPL 0D09:30:00.104222222 304.25 300  0           \n",
      "2020.02.03 AAPL 0D09:30:00.115302599 304.16 100  0.0002958531\n",
      "2020.02.03 AAPL 0D09:30:00.420630361 304.18 120  -6.57527e-05\n",
      "2020.02.03 AAPL 0D09:30:00.425902385 304.18 100  0           \n",
      "..\n"
     ]
    }
   ],
   "source": [
    "show t: update return:fills 0^log(prev price)%price from t_save"
   ]
  },
  {
   "cell_type": "code",
   "execution_count": 19,
   "metadata": {},
   "outputs": [
    {
     "data": {
      "text/plain": [
       "date       sym  time                 price  size return      \n",
       "-------------------------------------------------------------\n",
       "2020.02.03 AAPL 0D09:30:00.104222076 304.25 200  0           \n",
       "2020.02.03 AAPL 0D09:30:00.104222222 304.25 300  0           \n",
       "2020.02.03 AAPL 0D09:30:00.115302599 304.16 100  0.0002958531\n",
       "2020.02.03 AAPL 0D09:30:00.420630361 304.18 120  -6.57527e-05\n",
       "2020.02.03 AAPL 0D09:30:00.425902385 304.18 100  0           \n",
       "..\n"
      ]
     },
     "execution_count": 19,
     "metadata": {},
     "output_type": "execute_result"
    }
   ],
   "source": [
    "t"
   ]
  },
  {
   "cell_type": "code",
   "execution_count": 20,
   "id": "4a247e3f-0487-43c7-aa45-e5e82e49253f",
   "metadata": {},
   "outputs": [],
   "source": [
    "train_data: select from t where date < 2020.02.04\n",
    "test_data: select from t where date >= 2020.02.04"
   ]
  },
  {
   "cell_type": "code",
   "execution_count": 22,
   "metadata": {},
   "outputs": [
    {
     "data": {
      "text/plain": [
       "date       sym  time                 price  size return       \n",
       "--------------------------------------------------------------\n",
       "2020.02.04 AAPL 0D09:30:00.095982671 315.47 100  -0.2719674   \n",
       "2020.02.04 AAPL 0D09:30:00.095984948 315.48 400  -3.169823e-05\n",
       "2020.02.04 AAPL 0D09:30:00.170162286 315.48 185  0            \n",
       "2020.02.04 AAPL 0D09:30:00.416661690 315.5  100  -6.339345e-05\n",
       "2020.02.04 AAPL 0D09:30:00.416689735 315.5  100  0            \n",
       "..\n"
      ]
     },
     "execution_count": 22,
     "metadata": {},
     "output_type": "execute_result"
    }
   ],
   "source": [
    "test_data"
   ]
  },
  {
   "cell_type": "markdown",
   "id": "c7884ab8-ecf0-4143-8e7a-1864ac0cbb15",
   "metadata": {},
   "source": [
    "### Calculate predictability for k stocks\n",
    "1. For seconds, minutes, hours frequency over D days, get MSE_i for stock i\n",
    "2. return (k, n/D, 3)\n",
    "3. Prediction model (average)\n",
    "   - Autoregressive moving average model (ARIMA)\n",
    "   - LSTM"
   ]
  },
  {
   "cell_type": "code",
   "execution_count": 39,
   "id": "61eb8c61-993d-4e57-a614-6c9216893f8c",
   "metadata": {},
   "outputs": [],
   "source": [
    "get_features:{[t]\n",
    " // return the average price and sum of trading sizes within the given time step\n",
    " x_sec: select price:(sum (price*size))%sum size,size:sum size by time.second, sym, date from t;\n",
    " x_min: select price:(sum (price*size))%sum size,size:sum size by time.minute, sym, date from t;\n",
    " x_hr: select  price:(sum (price*size))%sum size,size:sum size by time.hh, sym, date from t;\n",
    " dfs: (x_sec;x_min;x_hr);\n",
    " dfs}\n",
    "\n",
    "dfs: get_features[test_data]\n",
    "x_sec: dfs[0];\n",
    "x_min: dfs[1]\n",
    "x_hr: dfs[2]"
   ]
  },
  {
   "cell_type": "code",
   "execution_count": 40,
   "metadata": {},
   "outputs": [
    {
     "data": {
      "text/plain": [
       "hh sym  date      | price    size   \n",
       "------------------| ----------------\n",
       "9  AAPL 2020.02.04| 315.3055 3604668\n",
       "9  AAPL 2020.02.05| 322.9354 3454343\n",
       "9  BABA 2020.02.04| 221.6647 2416575\n",
       "9  BABA 2020.02.05| 222.3097 2122567\n",
       "9  NVDA 2020.02.04| 245.7631 660613 \n",
       "..\n"
      ]
     },
     "execution_count": 40,
     "metadata": {},
     "output_type": "execute_result"
    }
   ],
   "source": [
    "x_hr"
   ]
  },
  {
   "cell_type": "code",
   "execution_count": 40,
   "id": "2eae5749-e3b8-438f-889b-db652d520dfb",
   "metadata": {},
   "outputs": [
    {
     "ename": "\u001b[0;31mparse error\u001b[0m",
     "evalue": "\u001b[0;31mtype\u001b[0m",
     "output_type": "error",
     "traceback": [
      "\u001b[0;31mparse error\u001b[0m",
      "\u001b[0;31mtype\u001b[0m"
     ]
    }
   ],
   "source": [
    "liquidty:{[t, sym, wsize]\n",
    " /t: data frame, sym: symbol list, wsize: number of days in the function \n",
    " / add one more column in dataframe for each symbol on its amihub illiquidity\n",
    " amihud:avg abs[log close%prev close]%price,dvol:1e-9*avg price by sym from daily;\n",
    " amihud}\n",
    " "
   ]
  },
  {
   "cell_type": "code",
   "execution_count": null,
   "id": "a0b154b7-597f-47aa-90bd-b9a1bc6d85f7",
   "metadata": {},
   "outputs": [],
   "source": []
  }
 ],
 "metadata": {
  "kernelspec": {
   "display_name": "Q (kdb+)",
   "language": "q",
   "name": "qpk"
  },
  "language_info": {
   "file_extension": ".q",
   "mimetype": "text/x-q",
   "name": "q",
   "version": "4.0"
  }
 },
 "nbformat": 4,
 "nbformat_minor": 5
}
